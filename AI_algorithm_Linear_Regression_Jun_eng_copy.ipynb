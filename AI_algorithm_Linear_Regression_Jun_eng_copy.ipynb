{
  "nbformat": 4,
  "nbformat_minor": 0,
  "metadata": {
    "colab": {
      "provenance": [],
      "include_colab_link": true
    },
    "kernelspec": {
      "name": "python3",
      "display_name": "Python 3"
    },
    "language_info": {
      "name": "python"
    }
  },
  "cells": [
    {
      "cell_type": "markdown",
      "metadata": {
        "id": "view-in-github",
        "colab_type": "text"
      },
      "source": [
        "<a href=\"https://colab.research.google.com/github/MManzicoder/MManzicoder/blob/main/AI_algorithm_Linear_Regression_Jun_eng_copy.ipynb\" target=\"_parent\"><img src=\"https://colab.research.google.com/assets/colab-badge.svg\" alt=\"Open In Colab\"/></a>"
      ]
    },
    {
      "cell_type": "markdown",
      "source": [
        "Linear Regression"
      ],
      "metadata": {
        "id": "YXZeFyRkKmam"
      }
    },
    {
      "cell_type": "code",
      "execution_count": 2,
      "metadata": {
        "id": "WXxUKcNIKaN5"
      },
      "outputs": [],
      "source": [
        "import numpy as np\n",
        "import pandas as pd\n",
        "import matplotlib.pyplot as plt"
      ]
    },
    {
      "cell_type": "code",
      "source": [
        "#Insert the student data. x value : study time, y value : score\n",
        "data = [[2, 70], [4, 87], [6, 91], [8, 99]]\n",
        "x = [i[0] for i in data]\n",
        "y = [i[1] for i in data]\n"
      ],
      "metadata": {
        "id": "k0qD52zSKqMM"
      },
      "execution_count": 1,
      "outputs": []
    },
    {
      "cell_type": "code",
      "source": [
        "#Make a graph\n",
        "plt.figure(figsize=(8,5))\n",
        "plt.scatter(x, y)\n",
        "plt.show()"
      ],
      "metadata": {
        "colab": {
          "base_uri": "https://localhost:8080/",
          "height": 320
        },
        "id": "ipLuoyLAKrJ2",
        "outputId": "97419f5c-b3cc-4d21-dc1a-c4f71ad9d0d8"
      },
      "execution_count": 3,
      "outputs": [
        {
          "output_type": "display_data",
          "data": {
            "text/plain": [
              "<Figure size 576x360 with 1 Axes>"
            ],
            "image/png": "[encoded data removed]"
          },
          "metadata": {
            "needs_background": "light"
          }
        }
      ]
    },
    {
      "cell_type": "code",
      "source": [
        "#change to Numpy matrix\n",
        "x_data = np.array(x)\n",
        "y_data = np.array(y)"
      ],
      "metadata": {
        "id": "gDFCgWr-Kw7t"
      },
      "execution_count": 4,
      "outputs": []
    },
    {
      "cell_type": "code",
      "source": [
        "# weight 'a' and bias 'b' reset\n",
        "a = 0\n",
        "b = 0\n",
        "\n",
        "#learning rate\n",
        "lr = 0.03 \n",
        "#epoch number\n",
        "epochs = 501\n",
        "\n",
        "#Lets start Gradient descent \n",
        "for i in range(epochs): # epoch repat\n",
        "    y_hat = a * x_data + b  #set of the 'y' \n",
        "    error = y_data - y_hat  #error value cacluate\n",
        "    a_diff = -(2/len(x_data)) * sum(x_data * (error)) # error funtion is differential 'a' weight  \n",
        "    b_diff = -(2/len(x_data)) * sum(error)  # error funtion is differential 'b'\n",
        "    a = a - lr * a_diff  # a_diff time a leaning rate = update to 'a' weight\n",
        "    b = b - lr * b_diff  # b_diff time leaning rate = update to b weight\n",
        "    if i % 100 == 0:    # 100 epoch, print to equation model\n",
        "        print(\"epoch=%.f, weight=%.04f, bias=%.04f\" % (i, a, b))"
      ],
      "metadata": {
        "colab": {
          "base_uri": "https://localhost:8080/"
        },
        "id": "pfjD9QvtK3zs",
        "outputId": "c0b7bb05-8dd1-441a-ab72-6aaceb882323"
      },
      "execution_count": 5,
      "outputs": [
        {
          "output_type": "stream",
          "name": "stdout",
          "text": [
            "epoch=0, weight=27.3900, bias=5.2050\n",
            "epoch=100, weight=8.3901, bias=41.0840\n",
            "epoch=200, weight=5.9947, bias=55.3786\n",
            "epoch=300, weight=5.0935, bias=60.7565\n",
            "epoch=400, weight=4.7545, bias=62.7797\n",
            "epoch=500, weight=4.6269, bias=63.5409\n"
          ]
        }
      ]
    },
    {
      "cell_type": "code",
      "source": [
        "# let's make to Graph that Calculated A.I model (Equation)\n",
        "y_pred = a * x_data + b\n",
        "plt.scatter(x, y)\n",
        "plt.plot([min(x_data), max(x_data)], [min(y_pred), max(y_pred)])\n",
        "plt.show()"
      ],
      "metadata": {
        "colab": {
          "base_uri": "https://localhost:8080/",
          "height": 265
        },
        "id": "hT7_ZmfILFBE",
        "outputId": "7b685f7a-aeaf-4ce9-b207-2719dcbd9b21"
      },
      "execution_count": 6,
      "outputs": [
        {
          "output_type": "display_data",
          "data": {
            "text/plain": [
              "<Figure size 432x288 with 1 Axes>"
            ],
            "image/png": "[encoded data removed]"
          },
          "metadata": {
            "needs_background": "light"
          }
        }
      ]
    },
    {
      "cell_type": "code",
      "source": [
        "#Student Score Prediction Program\n",
        "\n",
        "print(\"Please, Input your study time\")\n",
        "study_time = int(input())\n",
        "y_pred = float(a)* study_time + float(b)\n",
        "print(\"Your expected score:\", y_pred)"
      ],
      "metadata": {
        "colab": {
          "base_uri": "https://localhost:8080/"
        },
        "id": "BpYBXY1VYK7B",
        "outputId": "90de7d94-b1bc-4302-9ecb-c6c41fe7b8cf"
      },
      "execution_count": null,
      "outputs": [
        {
          "output_type": "stream",
          "name": "stdout",
          "text": [
            "Please, Input your study time\n",
            "4\n",
            "Your expected score: 88.01183140388723\n"
          ]
        }
      ]
    }
  ]
}